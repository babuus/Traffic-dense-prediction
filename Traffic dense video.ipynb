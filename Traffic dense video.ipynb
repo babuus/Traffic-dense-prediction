{
 "cells": [
  {
   "cell_type": "markdown",
   "source": [
    "Exported model:\r\n",
    "\r\n",
    "https://drive.google.com/drive/folders/1FUKuu4b6zg-t3AM7Ea6mIJG0Es2NA6IA?usp=sharing"
   ],
   "metadata": {}
  },
  {
   "cell_type": "code",
   "execution_count": 1,
   "source": [
    "import numpy as np\r\n",
    "import cv2\r\n",
    "\r\n",
    "import tensorflow as tf"
   ],
   "outputs": [],
   "metadata": {}
  },
  {
   "cell_type": "code",
   "execution_count": 2,
   "source": [
    "model = tf.keras.models.load_model('C:/Users/usbab/Desktop/Jupyter Notebook/Exported Models/Traffic')\r\n",
    "model.summary()"
   ],
   "outputs": [],
   "metadata": {}
  },
  {
   "cell_type": "code",
   "execution_count": 49,
   "source": [
    "pred_frame = []\r\n",
    "pred_value = []\r\n",
    "i = 0\r\n",
    "cap = cv2.VideoCapture(\"C:/Users/usbab/Desktop/Car Traffic.mp4\")\r\n",
    "while True:\r\n",
    "    # Capture frame-by-frame\r\n",
    "    ret, frame = cap.read()\r\n",
    "    # if frame is read correctly ret is True\r\n",
    "    if not ret:\r\n",
    "        print(\"Can't receive frame (stream end?). Exiting ...\")\r\n",
    "        break\r\n",
    "    # pred_frame.append(model.predict(np.expand_dims(cv.resize(frame, (180, 180)), axis=0)))\r\n",
    "    # pred_frame.append(frame)\r\n",
    "    # print(model.predict(frame))\r\n",
    "    if i%100 == 0:\r\n",
    "        if 1.0 == model.predict(np.expand_dims(cv2.resize(frame, (180, 180)), axis=0)/.255)[0][0]:\r\n",
    "            a = \"Dense\"\r\n",
    "        else:\r\n",
    "            a = \"sparse\"\r\n",
    "        pred_value.append(a)\r\n",
    "        # if float(a) >1.0:\r\n",
    "        #     print(a)\r\n",
    "    i+=1\r\n",
    "    font = cv2.FONT_HERSHEY_SIMPLEX\r\n",
    "\r\n",
    "    # Use putText() method for\r\n",
    "    # inserting text on video\r\n",
    "    cv2.putText(frame, \r\n",
    "                a, \r\n",
    "                (50, 50), \r\n",
    "                font, 1, \r\n",
    "                (0, 255, 255), \r\n",
    "                2, \r\n",
    "                cv2.LINE_4)\r\n",
    "    cv2.imshow(\"Trafic\",frame)\r\n",
    "    if cv2.waitKey(1) == ord('q'):\r\n",
    "        break\r\n",
    "# When everything done, release the capture\r\n",
    "cap.release()\r\n",
    "cv2.destroyAllWindows()"
   ],
   "outputs": [
    {
     "output_type": "stream",
     "name": "stdout",
     "text": [
      "Can't receive frame (stream end?). Exiting ...\n"
     ]
    }
   ],
   "metadata": {}
  },
  {
   "cell_type": "code",
   "execution_count": 37,
   "source": [
    "img_path = \"C:/Users/usbab/Desktop/bbb.png\"\r\n",
    "\r\n",
    "model.predict(np.expand_dims(cv2.resize(cv.imread(img_path), (180, 180)), axis=0)/.255)"
   ],
   "outputs": [
    {
     "output_type": "execute_result",
     "data": {
      "text/plain": [
       "array([[1.]], dtype=float32)"
      ]
     },
     "metadata": {},
     "execution_count": 37
    }
   ],
   "metadata": {}
  }
 ],
 "metadata": {
  "kernelspec": {
   "name": "python3",
   "display_name": "Python 3.9.6 64-bit"
  },
  "language_info": {
   "codemirror_mode": {
    "name": "ipython",
    "version": 3
   },
   "file_extension": ".py",
   "mimetype": "text/x-python",
   "name": "python",
   "nbconvert_exporter": "python",
   "pygments_lexer": "ipython3",
   "version": "3.9.6"
  },
  "interpreter": {
   "hash": "8f7f0518cd7fcc285424e80a7910436f5656b321296a1fc835bcfb7ee6ed48f4"
  }
 },
 "nbformat": 4,
 "nbformat_minor": 5
}